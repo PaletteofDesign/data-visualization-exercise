{
  "nbformat": 4,
  "nbformat_minor": 0,
  "metadata": {
    "colab": {
      "name": "data visualization exercise.ipynb",
      "provenance": [],
      "collapsed_sections": [],
      "authorship_tag": "ABX9TyM6vfHGsGzplJOsPkrTwLov",
      "include_colab_link": true
    },
    "kernelspec": {
      "name": "python3",
      "display_name": "Python 3"
    },
    "language_info": {
      "name": "python"
    }
  },
  "cells": [
    {
      "cell_type": "markdown",
      "metadata": {
        "id": "view-in-github",
        "colab_type": "text"
      },
      "source": [
        "<a href=\"https://colab.research.google.com/github/PaletteofDesign/data-visualization-exercise/blob/main/data_visualization_exercise.ipynb\" target=\"_parent\"><img src=\"https://colab.research.google.com/assets/colab-badge.svg\" alt=\"Open In Colab\"/></a>"
      ]
    },
    {
      "cell_type": "code",
      "metadata": {
        "colab": {
          "base_uri": "https://localhost:8080/"
        },
        "id": "LixlJqVY7QpL",
        "outputId": "e1911523-e0a9-4a67-9eec-c10037a9a8b6"
      },
      "source": [
        "from google.colab import drive\n",
        "drive.mount('/content/drive')"
      ],
      "execution_count": 1,
      "outputs": [
        {
          "output_type": "stream",
          "text": [
            "Drive already mounted at /content/drive; to attempt to forcibly remount, call drive.mount(\"/content/drive\", force_remount=True).\n"
          ],
          "name": "stdout"
        }
      ]
    },
    {
      "cell_type": "code",
      "metadata": {
        "id": "LAXfKbII8lpJ"
      },
      "source": [
        "import pandas as pd\n",
        "import matplotlib.pyplot as plt\n",
        "import seaborn as sns\n",
        "import numpy as np\n",
        "import matplotlib.ticker as tick"
      ],
      "execution_count": 2,
      "outputs": []
    },
    {
      "cell_type": "code",
      "metadata": {
        "colab": {
          "base_uri": "https://localhost:8080/",
          "height": 204
        },
        "id": "qMmeS1PY8wNs",
        "outputId": "802fbb9a-b7d2-49a5-8614-b0ccebc8a282"
      },
      "source": [
        "f_name = '/content/US GDP vs Debt.xlsx'\n",
        "df = pd.read_excel(f_name)\n",
        "df.head()"
      ],
      "execution_count": 3,
      "outputs": [
        {
          "output_type": "execute_result",
          "data": {
            "text/html": [
              "<div>\n",
              "<style scoped>\n",
              "    .dataframe tbody tr th:only-of-type {\n",
              "        vertical-align: middle;\n",
              "    }\n",
              "\n",
              "    .dataframe tbody tr th {\n",
              "        vertical-align: top;\n",
              "    }\n",
              "\n",
              "    .dataframe thead th {\n",
              "        text-align: right;\n",
              "    }\n",
              "</style>\n",
              "<table border=\"1\" class=\"dataframe\">\n",
              "  <thead>\n",
              "    <tr style=\"text-align: right;\">\n",
              "      <th></th>\n",
              "      <th>Quarter</th>\n",
              "      <th>Gross Domestic Product ($mil)</th>\n",
              "      <th>Total Public Debt ($mil)</th>\n",
              "    </tr>\n",
              "  </thead>\n",
              "  <tbody>\n",
              "    <tr>\n",
              "      <th>0</th>\n",
              "      <td>1947-01-01</td>\n",
              "      <td>243.164</td>\n",
              "      <td>NaN</td>\n",
              "    </tr>\n",
              "    <tr>\n",
              "      <th>1</th>\n",
              "      <td>1947-04-01</td>\n",
              "      <td>245.968</td>\n",
              "      <td>NaN</td>\n",
              "    </tr>\n",
              "    <tr>\n",
              "      <th>2</th>\n",
              "      <td>1947-07-01</td>\n",
              "      <td>249.585</td>\n",
              "      <td>NaN</td>\n",
              "    </tr>\n",
              "    <tr>\n",
              "      <th>3</th>\n",
              "      <td>1947-10-01</td>\n",
              "      <td>259.745</td>\n",
              "      <td>NaN</td>\n",
              "    </tr>\n",
              "    <tr>\n",
              "      <th>4</th>\n",
              "      <td>1948-01-01</td>\n",
              "      <td>265.742</td>\n",
              "      <td>NaN</td>\n",
              "    </tr>\n",
              "  </tbody>\n",
              "</table>\n",
              "</div>"
            ],
            "text/plain": [
              "     Quarter  Gross Domestic Product ($mil)  Total Public Debt ($mil)\n",
              "0 1947-01-01                        243.164                       NaN\n",
              "1 1947-04-01                        245.968                       NaN\n",
              "2 1947-07-01                        249.585                       NaN\n",
              "3 1947-10-01                        259.745                       NaN\n",
              "4 1948-01-01                        265.742                       NaN"
            ]
          },
          "metadata": {
            "tags": []
          },
          "execution_count": 3
        }
      ]
    },
    {
      "cell_type": "code",
      "metadata": {
        "colab": {
          "base_uri": "https://localhost:8080/"
        },
        "id": "ZJLucokLHOeH",
        "outputId": "fdbee003-0db1-40e0-fe8f-5dbb45987a89"
      },
      "source": [
        "df.isna().sum()"
      ],
      "execution_count": 4,
      "outputs": [
        {
          "output_type": "execute_result",
          "data": {
            "text/plain": [
              "Quarter                           0\n",
              "Gross Domestic Product ($mil)     0\n",
              "Total Public Debt ($mil)         77\n",
              "dtype: int64"
            ]
          },
          "metadata": {
            "tags": []
          },
          "execution_count": 4
        }
      ]
    },
    {
      "cell_type": "code",
      "metadata": {
        "colab": {
          "base_uri": "https://localhost:8080/",
          "height": 419
        },
        "id": "ulH7PUfFTnHw",
        "outputId": "6375f6a1-b8c6-4847-c064-0fddf93e929e"
      },
      "source": [
        "df.dropna()"
      ],
      "execution_count": 5,
      "outputs": [
        {
          "output_type": "execute_result",
          "data": {
            "text/html": [
              "<div>\n",
              "<style scoped>\n",
              "    .dataframe tbody tr th:only-of-type {\n",
              "        vertical-align: middle;\n",
              "    }\n",
              "\n",
              "    .dataframe tbody tr th {\n",
              "        vertical-align: top;\n",
              "    }\n",
              "\n",
              "    .dataframe thead th {\n",
              "        text-align: right;\n",
              "    }\n",
              "</style>\n",
              "<table border=\"1\" class=\"dataframe\">\n",
              "  <thead>\n",
              "    <tr style=\"text-align: right;\">\n",
              "      <th></th>\n",
              "      <th>Quarter</th>\n",
              "      <th>Gross Domestic Product ($mil)</th>\n",
              "      <th>Total Public Debt ($mil)</th>\n",
              "    </tr>\n",
              "  </thead>\n",
              "  <tbody>\n",
              "    <tr>\n",
              "      <th>76</th>\n",
              "      <td>1966-01-01</td>\n",
              "      <td>795.734</td>\n",
              "      <td>320999.0</td>\n",
              "    </tr>\n",
              "    <tr>\n",
              "      <th>77</th>\n",
              "      <td>1966-04-01</td>\n",
              "      <td>804.981</td>\n",
              "      <td>316097.0</td>\n",
              "    </tr>\n",
              "    <tr>\n",
              "      <th>78</th>\n",
              "      <td>1966-07-01</td>\n",
              "      <td>819.638</td>\n",
              "      <td>324748.0</td>\n",
              "    </tr>\n",
              "    <tr>\n",
              "      <th>79</th>\n",
              "      <td>1966-10-01</td>\n",
              "      <td>833.302</td>\n",
              "      <td>329319.0</td>\n",
              "    </tr>\n",
              "    <tr>\n",
              "      <th>80</th>\n",
              "      <td>1967-01-01</td>\n",
              "      <td>844.170</td>\n",
              "      <td>330947.0</td>\n",
              "    </tr>\n",
              "    <tr>\n",
              "      <th>...</th>\n",
              "      <td>...</td>\n",
              "      <td>...</td>\n",
              "      <td>...</td>\n",
              "    </tr>\n",
              "    <tr>\n",
              "      <th>289</th>\n",
              "      <td>2019-04-01</td>\n",
              "      <td>21329.877</td>\n",
              "      <td>22023283.0</td>\n",
              "    </tr>\n",
              "    <tr>\n",
              "      <th>290</th>\n",
              "      <td>2019-07-01</td>\n",
              "      <td>21540.325</td>\n",
              "      <td>22719402.0</td>\n",
              "    </tr>\n",
              "    <tr>\n",
              "      <th>291</th>\n",
              "      <td>2019-10-01</td>\n",
              "      <td>21747.394</td>\n",
              "      <td>23201380.0</td>\n",
              "    </tr>\n",
              "    <tr>\n",
              "      <th>292</th>\n",
              "      <td>2020-01-01</td>\n",
              "      <td>21561.139</td>\n",
              "      <td>23223813.0</td>\n",
              "    </tr>\n",
              "    <tr>\n",
              "      <th>293</th>\n",
              "      <td>2020-04-01</td>\n",
              "      <td>19520.114</td>\n",
              "      <td>26477241.0</td>\n",
              "    </tr>\n",
              "  </tbody>\n",
              "</table>\n",
              "<p>218 rows × 3 columns</p>\n",
              "</div>"
            ],
            "text/plain": [
              "       Quarter  Gross Domestic Product ($mil)  Total Public Debt ($mil)\n",
              "76  1966-01-01                        795.734                  320999.0\n",
              "77  1966-04-01                        804.981                  316097.0\n",
              "78  1966-07-01                        819.638                  324748.0\n",
              "79  1966-10-01                        833.302                  329319.0\n",
              "80  1967-01-01                        844.170                  330947.0\n",
              "..         ...                            ...                       ...\n",
              "289 2019-04-01                      21329.877                22023283.0\n",
              "290 2019-07-01                      21540.325                22719402.0\n",
              "291 2019-10-01                      21747.394                23201380.0\n",
              "292 2020-01-01                      21561.139                23223813.0\n",
              "293 2020-04-01                      19520.114                26477241.0\n",
              "\n",
              "[218 rows x 3 columns]"
            ]
          },
          "metadata": {
            "tags": []
          },
          "execution_count": 5
        }
      ]
    },
    {
      "cell_type": "code",
      "metadata": {
        "colab": {
          "base_uri": "https://localhost:8080/"
        },
        "id": "Zb2snhEOVDJ8",
        "outputId": "d646424f-62a1-44d0-c699-ed25eddad741"
      },
      "source": [
        "df.nunique()"
      ],
      "execution_count": 6,
      "outputs": [
        {
          "output_type": "execute_result",
          "data": {
            "text/plain": [
              "Quarter                          295\n",
              "Gross Domestic Product ($mil)    295\n",
              "Total Public Debt ($mil)         218\n",
              "dtype: int64"
            ]
          },
          "metadata": {
            "tags": []
          },
          "execution_count": 6
        }
      ]
    },
    {
      "cell_type": "code",
      "metadata": {
        "colab": {
          "base_uri": "https://localhost:8080/",
          "height": 359
        },
        "id": "24cw7kdAVoi8",
        "outputId": "8af93d24-ed46-4ed7-ccdb-0d6e0f029f49"
      },
      "source": [
        "year = (df['Quarter'] < '2021') & (df['Quarter'] >= '2010')\n",
        "df[year].head(10)"
      ],
      "execution_count": 7,
      "outputs": [
        {
          "output_type": "execute_result",
          "data": {
            "text/html": [
              "<div>\n",
              "<style scoped>\n",
              "    .dataframe tbody tr th:only-of-type {\n",
              "        vertical-align: middle;\n",
              "    }\n",
              "\n",
              "    .dataframe tbody tr th {\n",
              "        vertical-align: top;\n",
              "    }\n",
              "\n",
              "    .dataframe thead th {\n",
              "        text-align: right;\n",
              "    }\n",
              "</style>\n",
              "<table border=\"1\" class=\"dataframe\">\n",
              "  <thead>\n",
              "    <tr style=\"text-align: right;\">\n",
              "      <th></th>\n",
              "      <th>Quarter</th>\n",
              "      <th>Gross Domestic Product ($mil)</th>\n",
              "      <th>Total Public Debt ($mil)</th>\n",
              "    </tr>\n",
              "  </thead>\n",
              "  <tbody>\n",
              "    <tr>\n",
              "      <th>252</th>\n",
              "      <td>2010-01-01</td>\n",
              "      <td>14721.350</td>\n",
              "      <td>12773123.0</td>\n",
              "    </tr>\n",
              "    <tr>\n",
              "      <th>253</th>\n",
              "      <td>2010-04-01</td>\n",
              "      <td>14926.098</td>\n",
              "      <td>13201792.0</td>\n",
              "    </tr>\n",
              "    <tr>\n",
              "      <th>254</th>\n",
              "      <td>2010-07-01</td>\n",
              "      <td>15079.917</td>\n",
              "      <td>13561622.0</td>\n",
              "    </tr>\n",
              "    <tr>\n",
              "      <th>255</th>\n",
              "      <td>2010-10-01</td>\n",
              "      <td>15240.843</td>\n",
              "      <td>14025215.0</td>\n",
              "    </tr>\n",
              "    <tr>\n",
              "      <th>256</th>\n",
              "      <td>2011-01-01</td>\n",
              "      <td>15285.828</td>\n",
              "      <td>14270114.0</td>\n",
              "    </tr>\n",
              "    <tr>\n",
              "      <th>257</th>\n",
              "      <td>2011-04-01</td>\n",
              "      <td>15496.189</td>\n",
              "      <td>14343087.0</td>\n",
              "    </tr>\n",
              "    <tr>\n",
              "      <th>258</th>\n",
              "      <td>2011-07-01</td>\n",
              "      <td>15591.850</td>\n",
              "      <td>14790340.0</td>\n",
              "    </tr>\n",
              "    <tr>\n",
              "      <th>259</th>\n",
              "      <td>2011-10-01</td>\n",
              "      <td>15796.460</td>\n",
              "      <td>15222940.0</td>\n",
              "    </tr>\n",
              "    <tr>\n",
              "      <th>260</th>\n",
              "      <td>2012-01-01</td>\n",
              "      <td>16019.758</td>\n",
              "      <td>15606518.0</td>\n",
              "    </tr>\n",
              "    <tr>\n",
              "      <th>261</th>\n",
              "      <td>2012-04-01</td>\n",
              "      <td>16152.257</td>\n",
              "      <td>15855037.0</td>\n",
              "    </tr>\n",
              "  </tbody>\n",
              "</table>\n",
              "</div>"
            ],
            "text/plain": [
              "       Quarter  Gross Domestic Product ($mil)  Total Public Debt ($mil)\n",
              "252 2010-01-01                      14721.350                12773123.0\n",
              "253 2010-04-01                      14926.098                13201792.0\n",
              "254 2010-07-01                      15079.917                13561622.0\n",
              "255 2010-10-01                      15240.843                14025215.0\n",
              "256 2011-01-01                      15285.828                14270114.0\n",
              "257 2011-04-01                      15496.189                14343087.0\n",
              "258 2011-07-01                      15591.850                14790340.0\n",
              "259 2011-10-01                      15796.460                15222940.0\n",
              "260 2012-01-01                      16019.758                15606518.0\n",
              "261 2012-04-01                      16152.257                15855037.0"
            ]
          },
          "metadata": {
            "tags": []
          },
          "execution_count": 7
        }
      ]
    },
    {
      "cell_type": "code",
      "metadata": {
        "colab": {
          "base_uri": "https://localhost:8080/",
          "height": 359
        },
        "id": "K0xJ28fxIt1H",
        "outputId": "52590259-cb22-47e2-dcd6-2fdf21a4c04e"
      },
      "source": [
        "df.tail(10)"
      ],
      "execution_count": 8,
      "outputs": [
        {
          "output_type": "execute_result",
          "data": {
            "text/html": [
              "<div>\n",
              "<style scoped>\n",
              "    .dataframe tbody tr th:only-of-type {\n",
              "        vertical-align: middle;\n",
              "    }\n",
              "\n",
              "    .dataframe tbody tr th {\n",
              "        vertical-align: top;\n",
              "    }\n",
              "\n",
              "    .dataframe thead th {\n",
              "        text-align: right;\n",
              "    }\n",
              "</style>\n",
              "<table border=\"1\" class=\"dataframe\">\n",
              "  <thead>\n",
              "    <tr style=\"text-align: right;\">\n",
              "      <th></th>\n",
              "      <th>Quarter</th>\n",
              "      <th>Gross Domestic Product ($mil)</th>\n",
              "      <th>Total Public Debt ($mil)</th>\n",
              "    </tr>\n",
              "  </thead>\n",
              "  <tbody>\n",
              "    <tr>\n",
              "      <th>285</th>\n",
              "      <td>2018-04-01</td>\n",
              "      <td>20552.653</td>\n",
              "      <td>21195070.0</td>\n",
              "    </tr>\n",
              "    <tr>\n",
              "      <th>286</th>\n",
              "      <td>2018-07-01</td>\n",
              "      <td>20742.723</td>\n",
              "      <td>21516058.0</td>\n",
              "    </tr>\n",
              "    <tr>\n",
              "      <th>287</th>\n",
              "      <td>2018-10-01</td>\n",
              "      <td>20909.853</td>\n",
              "      <td>21974096.0</td>\n",
              "    </tr>\n",
              "    <tr>\n",
              "      <th>288</th>\n",
              "      <td>2019-01-01</td>\n",
              "      <td>21115.309</td>\n",
              "      <td>22027880.0</td>\n",
              "    </tr>\n",
              "    <tr>\n",
              "      <th>289</th>\n",
              "      <td>2019-04-01</td>\n",
              "      <td>21329.877</td>\n",
              "      <td>22023283.0</td>\n",
              "    </tr>\n",
              "    <tr>\n",
              "      <th>290</th>\n",
              "      <td>2019-07-01</td>\n",
              "      <td>21540.325</td>\n",
              "      <td>22719402.0</td>\n",
              "    </tr>\n",
              "    <tr>\n",
              "      <th>291</th>\n",
              "      <td>2019-10-01</td>\n",
              "      <td>21747.394</td>\n",
              "      <td>23201380.0</td>\n",
              "    </tr>\n",
              "    <tr>\n",
              "      <th>292</th>\n",
              "      <td>2020-01-01</td>\n",
              "      <td>21561.139</td>\n",
              "      <td>23223813.0</td>\n",
              "    </tr>\n",
              "    <tr>\n",
              "      <th>293</th>\n",
              "      <td>2020-04-01</td>\n",
              "      <td>19520.114</td>\n",
              "      <td>26477241.0</td>\n",
              "    </tr>\n",
              "    <tr>\n",
              "      <th>294</th>\n",
              "      <td>2020-07-01</td>\n",
              "      <td>21157.635</td>\n",
              "      <td>NaN</td>\n",
              "    </tr>\n",
              "  </tbody>\n",
              "</table>\n",
              "</div>"
            ],
            "text/plain": [
              "       Quarter  Gross Domestic Product ($mil)  Total Public Debt ($mil)\n",
              "285 2018-04-01                      20552.653                21195070.0\n",
              "286 2018-07-01                      20742.723                21516058.0\n",
              "287 2018-10-01                      20909.853                21974096.0\n",
              "288 2019-01-01                      21115.309                22027880.0\n",
              "289 2019-04-01                      21329.877                22023283.0\n",
              "290 2019-07-01                      21540.325                22719402.0\n",
              "291 2019-10-01                      21747.394                23201380.0\n",
              "292 2020-01-01                      21561.139                23223813.0\n",
              "293 2020-04-01                      19520.114                26477241.0\n",
              "294 2020-07-01                      21157.635                       NaN"
            ]
          },
          "metadata": {
            "tags": []
          },
          "execution_count": 8
        }
      ]
    },
    {
      "cell_type": "code",
      "metadata": {
        "colab": {
          "base_uri": "https://localhost:8080/"
        },
        "id": "YGq3uxtts97U",
        "outputId": "d9112d92-a586-4714-c8ca-3286412a6f44"
      },
      "source": [
        "df.dtypes"
      ],
      "execution_count": 9,
      "outputs": [
        {
          "output_type": "execute_result",
          "data": {
            "text/plain": [
              "Quarter                          datetime64[ns]\n",
              "Gross Domestic Product ($mil)           float64\n",
              "Total Public Debt ($mil)                float64\n",
              "dtype: object"
            ]
          },
          "metadata": {
            "tags": []
          },
          "execution_count": 9
        }
      ]
    },
    {
      "cell_type": "code",
      "metadata": {
        "id": "UaWV13aqt2_u"
      },
      "source": [
        "#df = pd.to_datetime(df['Quarter'])"
      ],
      "execution_count": 10,
      "outputs": []
    },
    {
      "cell_type": "code",
      "metadata": {
        "colab": {
          "base_uri": "https://localhost:8080/"
        },
        "id": "cZCwppk6y9H-",
        "outputId": "0e4187f4-8ad2-4106-b55a-fa95a2c8bcb5"
      },
      "source": [
        "df.dtypes"
      ],
      "execution_count": 11,
      "outputs": [
        {
          "output_type": "execute_result",
          "data": {
            "text/plain": [
              "Quarter                          datetime64[ns]\n",
              "Gross Domestic Product ($mil)           float64\n",
              "Total Public Debt ($mil)                float64\n",
              "dtype: object"
            ]
          },
          "metadata": {
            "tags": []
          },
          "execution_count": 11
        }
      ]
    },
    {
      "cell_type": "code",
      "metadata": {
        "colab": {
          "base_uri": "https://localhost:8080/",
          "height": 665
        },
        "id": "k9KfA9_MWK0p",
        "outputId": "d6a4d0cf-0186-4de7-e5b1-82bb128435e2"
      },
      "source": [
        "plt.style.use('dark_background')\n",
        "def y_f(x,y):\n",
        "    return '{:2.2}'.format(x).replace('e', 'T').replace('.', '').replace('+07', ' ').replace('2T', '20T').replace('220T', '22T').replace('120T', '12T')\n",
        "df[year].plot.line(x='Quarter', y='Total Public Debt ($mil)', marker='.', markersize=12, figsize=(12,10), \n",
        "                   grid=False, c='r', linewidth=2).yaxis.set_major_formatter(tick.FuncFormatter(y_f))\n",
        "plt.title('Public Debt Growth 2010 - 2020', fontsize=22, pad=20)\n",
        "plt.legend(labels=['Total Debt ($Tril)'], loc='upper left', fontsize=12)\n",
        "plt.yticks(fontsize=12)\n",
        "plt.xticks(fontsize=12)\n",
        "plt.xlabel('Quarter', fontsize=16, labelpad=20)\n",
        "plt.ylabel('Debt', fontsize=16, labelpad=20)\n",
        "plt.savefig('PDG')"
      ],
      "execution_count": 16,
      "outputs": [
        {
          "output_type": "display_data",
          "data": {
            "image/png": "[encoded data removed]",
            "text/plain": [
              "<Figure size 864x720 with 1 Axes>"
            ]
          },
          "metadata": {
            "tags": []
          }
        }
      ]
    }
  ]
}